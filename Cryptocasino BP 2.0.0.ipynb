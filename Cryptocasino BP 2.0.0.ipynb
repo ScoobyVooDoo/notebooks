{
 "cells": [
  {
   "cell_type": "markdown",
   "metadata": {},
   "source": [
    "# Blockfeller.com"
   ]
  },
  {
   "cell_type": "markdown",
   "metadata": {},
   "source": [
    "## Описание проекта\n",
    "Сервис **“Blockfeller.com”** предлагает пользователям зарабатывать деньги на прогнозировании поведения различных характеристик криптовалют и их отношений. Такие возможности дает высокая волатильность их курсов, а также разнообразие сценариев эволюции различных криптовалют. Изучая предметную область и делая ставки, пользователи могут становиться экспертами в предсказании характеристик, тем самым увеличивая свои шансы на выигрыш. Целевая аудитория включает в себя как людей, заинтересованных в традиционных финансовых инструментах, так и адептов криптовалютной революции.  \n",
    "\n",
    "Ценностное предложение для клиента обеспечивается специальной технической реализацией, использующей блокчейн для хранения данных и механизмы смарт-контрактов. Сервис гарантирует безопасность и своевременность всех проводимых финансовых операций, а также коэффициенты выигрышей и другие условия, по которым принимаются ставки. \n",
    "\n",
    "Считаем существенным подчеркнуть, что в рамках этого проекта мы не планируем выходить на ICO: команда способна реализовать проект собственными силами путем разумного расширения штата сотрудников."
   ]
  },
  {
   "cell_type": "markdown",
   "metadata": {},
   "source": [
    "## Анализ рынка\n",
    "\n",
    "Мы проанализировали рынок криптовалютных бинарных опционов по причине его концептуальной схожести с MVP проекта, а также- несколько традиционных казино, выявили современные рыночные тенденции и наиболее сильных, с нашей точки зрения, участников рынка.  \n",
    "\n",
    "**Основные тенденции:**  \n",
    "* Представлены два типа проектов: Существующие брокеры бинарных опционов предлагают сделать фиатные ставки на поведение криптовалюты/ криптовалютной пары. Новые проекты предлагают использовать блокчейн и планируют выпускать собственный токен.\n",
    "* Практически все компании на блокчейне финансируются за счет ICO, но большинство из них  не следует своему Roadmap либо вовсе не представляют в итоге готовый продукт. Такие компании зачастую аргументом в пользу использования архитектуры блокчейн часто позиционируют надежность, но в итоге не могут ее обеспечить. \n",
    "* Умпешные стартапы ведут блоги или ветки формума, где регулярно делятся с подписчиками своими успехами и идеями с цельями укрепить их доверие. Рассказывают о своем проекте, поддерживают контакт и отвечают на вопросы\n",
    "* На практике не реализованы альтернативные игровые механики. Платформы ограничиваюся монопродуктом (бинарные опционы)\n",
    "* Если исходить из языковых версий сайтов, значительная часть проектов реализуется гражданами РФ.\n",
    "\n",
    "**Участники рынка:**\n",
    "\n",
    "* BitDice casino\n",
    "Whitepaper: https://ico.bitdice.me/prospectus_en.pdf   \n",
    "Brief: Традиционное казино, действует с 2014, хотят перевести архитектуру на блокчен для повышения безопасности и доказательства собственной честности. Из услуг - дайсы, покер и ставки на спорт для притока новой аудитории.   \n",
    "Status: похоже, мертв: низкий онлайн, ICO проведено в сентябре 2017, собрали USD 8 mil. \n",
    "\n",
    "* IQ Options\n",
    "Brief: Вероятно, самый известный брокер бинарных опционов. С недавнего времени также принимают ставки на поведение криптовалют. Важно: не предоставляют услуги в ряде стран, включая Россию  \n",
    "Status: Работают исправно, планов на блокченизацию нет\n",
    "\n",
    "* DaoCasino \n",
    "Whitepaper: https://github.com/DaoCasino/Whitepaper/blob/master/DAO.Casino%20WP.md   \n",
    "Brief: делают платформу, к которой могу подключаться независимые поставшики игр, получая процент от прибыли. Позволяют пользователям инвестировать в собственные запасы. Все работает на смарт-контрактах, своего токена нет.  \n",
    "Status: выходят новости, появляются новые записи на гитхабе, работает сайт\n",
    "\n",
    "\n",
    "* CryptoBo\n",
    "Whitepaper: -missing-     \n",
    "Brief: stated as the first cryptocurrency b/o broker. Supports currency pairs within ETC/LTC/ETH and fiat currencies    \n",
    "**Isn't actually an ICO project**\n",
    "\n",
    "* Betex \n",
    "Whitepaper: https://betexlab.com/betex-wp.pdf  \n",
    "Brief: пользователи совершают ставки друг против друга, а не против сервиса (как в традиционных моделях). Таким образом, проект зарабатывает только на комиссиях за использование. Вытаскивают ETH со счета пользователя в обмен на свой токен (эмиссия), искуственно удерживая его курс 1:1 к доллару. Пользователь выводит деньги обратно в эфир, токен горит.   \n",
    "Status: самый сильный и рабочий проект на данный момент. Профинансировались в максимально сжатый срок, токены распроданы за пару дней. Есть кривоватая демка ЛК.  \n",
    "\n",
    "\n",
    "* Edgeless  \n",
    "Whitepaper: https://bravenewcoin.com/assets/Whitepapers/Edgeless-Casino-Crowdsale-Whitepaper.pdf    \n",
    "Brief: Традиционное казино с сильным ограничением количества игр. На апрель 2018 доступны кости и блэкджек, покер и ставки на спорт запланированы на Q4 и Q3 2018 соответственно    \n",
    "**Claims to have 0% house edge**  \n",
    "Status: Судя по датам, ICO проведено, сайт жив и работает, ввод новых фичей в эксплуатацию соответствует обозначенному в Whitepaper. Текущая капитализация токена -  USD 50M, пиковая - USD 214M."
   ]
  },
  {
   "cell_type": "markdown",
   "metadata": {},
   "source": [
    "![Edgeless](images/EDG.png)"
   ]
  },
  {
   "cell_type": "markdown",
   "metadata": {},
   "source": [
    "* BlockOptions\n",
    "Whitepaper: https://github.com/blockoptions/blockoptions/blob/master/whitepaper/whitepaper.md#disclaimer    \n",
    "Brief: Позиционируются как честный p2p брокер. Игроки ставят против \"банка\", который формируется за счет депозитов других участников системы. Выпущенные во время Ш токены являются инвестиционным инструментом, депозит средств и выплата выигрышей происходит напрямую с/на ETH кошелек.    \n",
    "Status: pre-ICO, сайт работает, последнее обновление на GitHub/ в социальных сетях приходится на конец ноября- начало декабря 2017, в роадмапе стоит проведение ICO в конце 2017.    \n",
    "**похоже, проект мертв**\n",
    "\n",
    "----\n",
    "\n",
    "* BinaryCoin  \n",
    "Whitepaper:  **TBA**     \n",
    "Brief:  Вероятно, не конкурент.  \n",
    "**repeatedly reported as scam at bitcointalk.com**    \n",
    "Status: Провели ICO в конце 2017. По состоянию на середину апреля 2018 whitepaper недоступен, информация недоступна. Вероятно, в силу того, что компания выпустила анонс о смене концепта. На фоне этого токен компании, который падал с момента ICO, значительно подорожал, но к настоящему моменту опустился даже ниже, чем был до анонса. (в анонсе фичи, которые они хотели добавить к середине февраля, но пока продукт не представлен, инвесторы бунтуют)\n",
    "\n"
   ]
  },
  {
   "cell_type": "markdown",
   "metadata": {},
   "source": [
    "## Дизайн, экономика и жизненный цикл токена. \n",
    "Используемый токен BFC представляет собой utility-токен с неограниченной эмиссией,отвечающий стандарту ERC-20. Это означает, что он используется как средство обращения внутри системы, не покидая ее пределов. Эмиссия (выпуск) токенов осуществляется при депозите средств с ETH кошелька и их конвертации в BFC. При обратной конвертации токен сгорает. \n",
    "Курс BFC искусственно поддерживается на уровне 1:1 к доллару США и крорректируется относительно курса ETH для удобства размещения и вывода средств. Дополнительно предусмотрено автоматическое сжигание токенов с переводом эквивалента в ETH на кошелек игрока в случае длительного неиспользования (избежание спекуляций). \n",
    "> Комментарий: Поскольку мы не выходим на ICO, нам не обязательно придумывать искуственный механизм роста цены токена. Математика проекта позволяет обеспечить рост дохода в прямой зависимости от роста числа пользователей сервиса \n"
   ]
  },
  {
   "cell_type": "markdown",
   "metadata": {},
   "source": [
    "![Tokenomics](images/untitled_page.png)"
   ]
  },
  {
   "cell_type": "markdown",
   "metadata": {},
   "source": [
    "## Игровые механики"
   ]
  },
  {
   "cell_type": "markdown",
   "metadata": {},
   "source": [
    "\n",
    "\n",
    "### Мгновенный бинарный опцион\n",
    "Игрок выбирает актив, временной промежуток (дискретно от 1 до 10 минут с шагом в минуту). Указывает сумму ставки и направление динамики стоимости (рост или падение). Токены поступают в банк, на основании данных формируется смарт-контракт, гарантирующий 190% выплату при условии победы и 0% выплату в случае поражения. По истечении срока,оракул сообщает контракту данные о состоянии актива, после чего осуществляется транзакция, записываемая в блокчейн.\n",
    "> Краткосрочная динамика цены актива носит спекулятивный характер и на практике непредсказуема. Таким образом, вероятность проигрыша и выигрыша обусловлена случайностью, но система имеет долгосрочное преимущество перед игроком в силу коэффициента выплаты вознаграждения."
   ]
  },
  {
   "cell_type": "markdown",
   "metadata": {},
   "source": [
    "Математическое ожидание выигрыша неподготовленного индивидуального игрока определяется формулой:  \n",
    "$$ M[x]= P_{win} * Payount * Bet  - P_{lose} * {Bet}$$\n",
    "* Поскольку игрок неинформирован,  $P_{win} = P_{lose} = 0.5$ \n",
    "* $ Payout$ -это константный коэффициент выплаты в случае выигрыша\n",
    "Таким образом, формула принимает вид:  \n",
    "$$ M[x] = 0.5 * 0.9 * Bet - 0.5 * Bet $$  \n",
    "Математическое ожидание игры отрицательно для игрока, значит для большинства случаев игра самоокупаема. Пользователю потребуется удерживать процент верных предсказаний на уровне ~ 52,6% чтобы не терять деньги.\n",
    "  \n"
   ]
  },
  {
   "cell_type": "code",
   "execution_count": 10,
   "metadata": {},
   "outputs": [
    {
     "data": {
      "image/png": "[encoded data removed]",
      "text/plain": [
       "<matplotlib.figure.Figure at 0x7f6fa0b55a90>"
      ]
     },
     "metadata": {},
     "output_type": "display_data"
    }
   ],
   "source": [
    "import matplotlib.mlab as mlab\n",
    "import matplotlib.pyplot as plt\n",
    "import math\n",
    "import numpy as np\n",
    "mu = 0.5\n",
    "variance = 0.001\n",
    "sigma = math.sqrt(variance)\n",
    "x = np.linspace(mu - 3*sigma, mu + 3*sigma, 100)\n",
    "\n",
    "plt.xlabel(\"Win rate\")\n",
    "plt.ylabel(\"Density\")\n",
    "plt.title(\"Ожидаемое распределение игроков по проценту побед\")\n",
    "plt.plot(x,mlab.normpdf(x, mu, sigma))\n",
    "plt.show()"
   ]
  },
  {
   "cell_type": "markdown",
   "metadata": {},
   "source": [
    "### Срочный бинарный опцион \n",
    "С точки зрения экономической теории представляет собой биржевое пари на фиксированный срок. Похож на мгновенный БО, но более предсказуем с сточки зрения игрока. Игрок также выбивает актив и срок (от одного дня до недели) и предсказывает направление динамики стоимости. \n"
   ]
  },
  {
   "cell_type": "markdown",
   "metadata": {},
   "source": [
    "### Лучший предсказатель \n",
    "В игре участвуют от 5 до 10 игроков с равными ставками на входе. Цель игры- наиболее точно предсказать стоимость актива через определенное время. Победитель с минимальной разницей между реальной и предсказанной ценой получает 50% общего призового фонда, второй игрок- 25%, третий- 15%. Blockfeller получает 10% призового фонда каждой игровой сессии.  "
   ]
  },
  {
   "cell_type": "markdown",
   "metadata": {},
   "source": [
    "## Технологическая спецификация\n",
    "Основные элементы технологичекой спецификации включают в себя платформу для взаимодействия с пользователем (front-end), блокчен для храненния истории транзакций, смарт контракты для гарантии исполнения обязательств сторонами без условия доверия с любой стороны и оракула, сообщающего системе данные, необходимые для реализации игровых смарт-контрактов(back-end). \n",
    "\n",
    "**Front-end:**  \n",
    "Внешний интерфейс взаимодействия пользователя и системы: \n",
    "* личный кабинет со статистикой и историей игр, \n",
    "* интерфейс для пополнения счета и вывода средств, \n",
    "* графические оболочки игровых моделей,  \n",
    "* Wiki  \n",
    "\n",
    "**Back-end:** \n",
    "\n",
    "*Блокчейн:* \n",
    "\n",
    "Проект использует инфраструктуру сети Ethereum для хранения транзакций\n",
    "\n",
    "\n",
    "*Смарт-контакты:*\n",
    "> Комментарий:  Наши ориентиры при разработке смарт-контрактов\n",
    "* The bet occurs by means of transferring the BFC token into a common liquidity pool for a given event in the system;\n",
    "* The network commission (Ethereum) should be as small as possible;\n",
    "* Reward payout (including the transfer of the commission) is realized by a smart contract based on the data received from the oracle.\n",
    "\n",
    "* Контракт BFC токена по стандарту ERC20. BFC стабилен относитльно кураса доллара, его стоимость ужерживается искусственно. Эмитируется при обменной операции (ETH->BFC), сжигается при операции обратного обмена (BFC->ETH)\n",
    "* Обменные контракты, обеспечивающие автоматическую конвертацию между токеном системы и эфиром.\n",
    "* Контракты, содержащие правила игры, в которые в момент создания вносятся ставки и реквизиты игроков  \n",
    "\n",
    "*Оракул:*  \n",
    "\n",
    "Под \"оракулом\" понимается элемент системы, работающий независимо от остальных ее частей. Он расчитывает курс криптовалюты в момент времени как средневзвешенный курс основных бирж и сообщает его игровым смарт-контрактам для осуществления транзакций. Основой \"Оракула\" выступит totalbit.io, для которого будет произведена доработка на случай отказа одной/нескольких бирж\n",
    "\n"
   ]
  },
  {
   "cell_type": "markdown",
   "metadata": {},
   "source": [
    "## Описание MVP\n",
    "MVP является для проекта версией продукта с минимумом функций, способным удовлетворить потребности потребителя. MVP следует рассматривать как отправную точку для создания успешного программного продукта. Фокусируясь на минимальном наборе ключевых функций, мы разработаем основу продукта, которая, при условии успешной валидации на предметы спроса, эффективности и жизнеспособности в рыночных условиях, может быть масштабирована.\n",
    "\n",
    "**MVP Blockfeller включает в себя реализацию следующих задач:**\n",
    "* создание платформы\n",
    "* разработка оракула\n",
    "* разработка обслуживающих смарт-контрактов для токена и его конвертации\n",
    "* введение в эксплуатации игровых модулей \"мгновенный бинарный опцион\", \"срочный бинарный опцион\" и \"лучший предсказатель\"  \n",
    "\n",
    "**Функционал для пользователя (функциональные требования): ** \n",
    "* Работа с личным кабинетом, просмотр баланса, истории игр и статистики  \n",
    "* Интерфейс для пополнения баланса и вывода стредств\n",
    "* Игровые модули \"Мгновенный бинарный опцион\", \"Срочный бинарный опцион\" и \"Лучший трейдер\"\n"
   ]
  },
  {
   "cell_type": "markdown",
   "metadata": {},
   "source": [
    "![lk_prototype](images/UI_draft.png)"
   ]
  },
  {
   "cell_type": "markdown",
   "metadata": {},
   "source": [
    "## Команда \n",
    "Артем Плешаков   \n",
    "Дмитрий Фролов  \n",
    "Илья Мельников  \n",
    "Александр Плаксин  \n",
    "Артем Коннов \n"
   ]
  }
 ],
 "metadata": {
  "kernelspec": {
   "display_name": "Python 3",
   "language": "python",
   "name": "python3"
  },
  "language_info": {
   "codemirror_mode": {
    "name": "ipython",
    "version": 3
   },
   "file_extension": ".py",
   "mimetype": "text/x-python",
   "name": "python",
   "nbconvert_exporter": "python",
   "pygments_lexer": "ipython3",
   "version": "3.6.5"
  }
 },
 "nbformat": 4,
 "nbformat_minor": 2
}
